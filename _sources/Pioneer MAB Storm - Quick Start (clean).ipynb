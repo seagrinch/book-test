{
 "cells": [
  {
   "cell_type": "markdown",
   "id": "d300ef5e-869d-49a9-aded-d6d6e3c1dba0",
   "metadata": {},
   "source": [
    "# Pioneer MAB Storm Example Activity / Python Quickstart\n",
    "Written by Sage Lichtenwalner, Rutgers University, May 23, 2024\n",
    "\n",
    "In this notebook, we will demonstrate how to access and plot data from the new *OOI Pioneer MAB Array*. \n",
    "\n",
    "<img src=\"https://oceanobservatories.org/wp-content/uploads/2021/06/Pioneer-Figure-1.png\" width=\"450px\">\n",
    "\n",
    "The Pioneer MAB Array was deployed in April 2024 off the coast of North Carolina, a bit north of Cape Hatteras.  While there are a number of ways to access data from the OOI, we will use the relatively new OOI ERDDAP data server, which provides a straightforward way to request and download data.  Erddap servers are used by a number of oceanographic data centers, so once you learn one, you can easily get around others.  \n",
    "\n",
    "This example will highlight wind, wave and weather measurements made by the *Central Surface Mooring* during the [first storm](https://ocracokeobserver.com/2024/04/09/another-brief-storm-system-heading-our-way-thursday/) to pass by the array in late April.  Weather timeseries measurements tend to be easier for students to work with, as they tend to be straightforward measurements and students often have an intuitive understanding of what they mean.\n",
    "\n",
    "<img src=\"https://oceanobservatories.org/wp-content/uploads/2024/03/MAB-Array-map-2-scaled.jpg\" width=\"450px\" align=\"right\">\n",
    "\n",
    "**At the end of this notebook activity, you will be able to:**\n",
    "\n",
    "* Understand how to use the *erddapy* library to easily load data from the OOI ERDDAP data server into a programming environment\n",
    "* Generate graphs of wind, waves and other variables from the Pioneer MAB Central Surface Mooring\n",
    "* Compare different techniques for plotting multiple variables/instruments on the same graph\n",
    "* Use 2 ways to select time periods for graphing (during download vs. plot axes limits)\n",
    "* Interpret the time relationship between multiple variables\n",
    "* Understand how to use the erddapy search feature to find other OOI instruments (optional extension)\n",
    "\n",
    "**Pedagogical Approach**\n",
    "In addition to demonstrating how to use code to access and plot OOI data, this notebook will also (loosely) use the Engage-Explore-Make Meaning format to guide students through the activity.  You can find out more about this approach (which is a pared down version of the 5E constructivist model) on the [Polar ICE](https://polar-ice.org/about-us/polar-cap/) site."
   ]
  },
  {
   "cell_type": "markdown",
   "id": "550cbe85-c63a-4672-bfbd-3e8b93a2e240",
   "metadata": {},
   "source": [
    "## Engage - Finding a Wind Storm\n",
    "\n",
    "In April 2024, a [coastal storm](https://ocracokeobserver.com/2024/04/09/another-brief-storm-system-heading-our-way-thursday/) passed the new Pioneer MAB Array off the coast of North Carolina. This was the first storm the new array measured. According to [timeanddate.com](https://www.timeanddate.com/weather/@4470221/historic?month=4&year=2024), the highest winds during the storm were recorded late in the day on April 11.  Let's take a look at what the Central Surface Mooring recorded this month, to see how the storm compares with the rest of the month.  \n",
    "\n",
    "To start, we'll focus on wind.  Later on, we'll take a look at waves and turbidity to see how the storm impacted the waves and sediment in the ocean.\n",
    "\n",
    "### Step 0 - Setup the notebook\n",
    "In order to run code in this notebook, we will rely on several Python *libraries* that provide us with a number of functions to load, plot and deal with data.  To use these libraries, they must first be loaded into memory."
   ]
  },
  {
   "cell_type": "code",
   "execution_count": null,
   "id": "996f0ebf-cc80-49e9-b808-6c477a2f0ea5",
   "metadata": {},
   "outputs": [],
   "source": [
    "# Install erddapy\n",
    "# !pip install erddapy"
   ]
  },
  {
   "cell_type": "code",
   "execution_count": null,
   "id": "5c4e8f1d-1704-49e3-b811-38a954000009",
   "metadata": {},
   "outputs": [],
   "source": [
    "# Notebook Setup\n",
    "from erddapy import ERDDAP\n",
    "import pandas as pd\n",
    "import matplotlib.pyplot as plt"
   ]
  },
  {
   "cell_type": "markdown",
   "id": "5597e1ca-3b4b-4349-8ff1-845c25bab681",
   "metadata": {},
   "source": [
    "### Step 1 - Load the Data with erddapy\n",
    "We will use the [erddapy](https://ioos.github.io/erddapy/) library to load the dataset from the OOI Erddap server.  \n",
    "* First we need to initialize the connection with the library.\n",
    "* Then for each dataset we need, we will use the `e.get_download_url()` function to create the URL to download the data we want.\n",
    "* Finally, we will load the data into a *Pandas DataFrame,* which is a popular library for playing with *spreadsheet* like data in python."
   ]
  },
  {
   "cell_type": "code",
   "execution_count": null,
   "id": "bf35a167-4e51-47e9-aab8-756708b860de",
   "metadata": {},
   "outputs": [],
   "source": [
    "# Setup Erddap connection\n",
    "server = \"https://erddap.dataexplorer.oceanobservatories.org/erddap/\"\n",
    "e = ERDDAP(\n",
    "    server=server,\n",
    "    protocol=\"tabledap\",\n",
    "    response=\"csv\",\n",
    ")"
   ]
  },
  {
   "cell_type": "markdown",
   "id": "a2454c36-063d-49b5-9082-3baf9c76f4ea",
   "metadata": {},
   "source": [
    "In order to download data from Erddap, we need to know the *dataset ID*.  To find the ID, navigate to the instrument you want on the OOI Data Explorer, then click the green *Download* button, and select the *Erddap Metadata* option.  This will bring up a page with the Dataset ID at the top.  Here the the IDs we will need for Winds and Waves.\n",
    "\n",
    "* Central Surface Mooring, Surface Buoy: Bulk Meteorology Instrument Package A, [Winds: Speed and Direction](https://dataexplorer.oceanobservatories.org/#metadata/110925/station/8/sensor/data?leg_clim_max=false&leg_clim_min=false)\n",
    "  * ooi-cp10cnsm-sbd11-06-metbka000\n",
    "* Central Surface Mooring, Surface Buoy: Surface Wave Spectra, [Waves: Significant Height and Direction](https://dataexplorer.oceanobservatories.org/#metadata/110932/station/232/sensor/data?leg_clim_max=false&leg_clim_min=false)\n",
    "  * ooi-cp10cnsm-sbd12-05-wavssa000\n"
   ]
  },
  {
   "cell_type": "code",
   "execution_count": null,
   "id": "609cc29e-c578-41e2-ab0c-992c80194c48",
   "metadata": {},
   "outputs": [],
   "source": [
    "# Construct the URL to access Wind Data\n",
    "url_wind = e.get_download_url(\n",
    "    dataset_id = \"ooi-cp10cnsm-sbd11-06-metbka000\",\n",
    "    constraints = {\n",
    "      \"time>=\": \"2024-04-01\",\n",
    "      \"time<=\": \"2024-04-30\",\n",
    "    }\n",
    ")\n",
    "\n",
    "# By default, Jupyter notebooks will print out the last line, if it's simply a variable\n",
    "# Otherwise, you will need to use the print() function to display variables earlier in the cell\n",
    "url_wind"
   ]
  },
  {
   "cell_type": "markdown",
   "id": "78d3c2f0-eab0-47e1-8412-af2b10822356",
   "metadata": {},
   "source": [
    "If you click on this URL we created, it will download the CSV file to your computer.  But we don't need to do that, we can have the script download and load the data directly.  There are a number of ways to do this, but we will use the pandas `read_csv()` function.\n",
    "\n",
    "Note, if we use the \"csv\" response option above in the erddapy setup, we need to skip the 2nd row in the data file that contains the units.  Alternatively, we could use the \"csvp\" option which would combine the units and variable name into the header row."
   ]
  },
  {
   "cell_type": "code",
   "execution_count": null,
   "id": "80cd03a1-9c8b-4e6e-9e77-5848553f2e59",
   "metadata": {},
   "outputs": [],
   "source": [
    "# Load the data from the url\n",
    "df_wind = pd.read_csv(url_wind, index_col='time', parse_dates=True, skiprows=[1])\n",
    "\n",
    "# Display the first few lines\n",
    "df_wind.head()"
   ]
  },
  {
   "cell_type": "markdown",
   "id": "a8049d2b-f900-49f1-a734-828b87d0f75f",
   "metadata": {},
   "source": [
    "As you can see the METBK sensor has a lot of variables. We're only going to focus on wind_speed right now, but you can play with the others later if you're interested.\n",
    "\n",
    "If you look at the first few rows for wind_speed, you'll noticed they are all NaN.  This is because this measurement is currently only calculated every hour, while the raw data is available every minute.  To deal with this, we could either calculate wind_speed for every minute based on the east and north wind velocities, or we can simply remove the rows that do not have a valid wind_speed to simplify the data. "
   ]
  },
  {
   "cell_type": "code",
   "execution_count": null,
   "id": "b9b9c36b-1457-4d96-9ecc-22288e664294",
   "metadata": {},
   "outputs": [],
   "source": [
    "# Remove the NaN wind_speed values\n",
    "df_wind = df_wind.dropna(subset='wind_speed')\n",
    "df_wind.head()"
   ]
  },
  {
   "cell_type": "markdown",
   "id": "e7737cca-1f87-484d-86ba-e54e0fe45f28",
   "metadata": {},
   "source": [
    "### Step 2 - A Quick Plot of Winds"
   ]
  },
  {
   "cell_type": "code",
   "execution_count": null,
   "id": "5d3d78ad-c8d1-4b5c-a014-62d3d622c83e",
   "metadata": {},
   "outputs": [],
   "source": [
    "# Make a quick plot using the built-in Pandas plotting function\n",
    "df_wind.wind_speed.plot()\n",
    "plt.ylabel('Wind Speed (m/s)')\n",
    "plt.title('Pioneer MAB Central Surface Mooring');"
   ]
  },
  {
   "cell_type": "markdown",
   "id": "4bca3939-bded-4f40-bb82-41049197f594",
   "metadata": {},
   "source": [
    "**Questions**\n",
    "\n",
    "* What is the max and minimum wind speed?\n",
    "* Describe the general pattern of the windspeed throughout the month.\n",
    "* When was the highest wind speed measured?  Does that match the timeframe of the storm?"
   ]
  },
  {
   "cell_type": "markdown",
   "id": "a2675419-8d10-4e97-9256-3346cca22151",
   "metadata": {},
   "source": [
    "## Explore - Comparing Winds and Waves\n",
    "Now that we've looked at the wind speed, let's load another dataset that includes waves so we can compare the two.\n",
    "\n",
    "We'll use the same code as before, but save the dataset as a different variable."
   ]
  },
  {
   "cell_type": "code",
   "execution_count": null,
   "id": "926c55b9-2389-42c2-b94e-2ab034573345",
   "metadata": {},
   "outputs": [],
   "source": [
    "# Load the Wave Data\n",
    "url_wave = e.get_download_url(\n",
    "    dataset_id = \"ooi-cp10cnsm-sbd12-05-wavssa000\",\n",
    "    constraints = {\n",
    "      \"time>=\": \"2024-04-01\",\n",
    "      \"time<=\": \"2024-04-30\",\n",
    "    }\n",
    ")\n",
    "print(url_wave)\n",
    "\n",
    "df_waves = pd.read_csv(url_wave, index_col='time', parse_dates=True, skiprows=[1])\n",
    "df_waves.head()"
   ]
  },
  {
   "cell_type": "markdown",
   "id": "400c6d11-ea64-443a-bc57-ad565dbc4fac",
   "metadata": {},
   "source": [
    "### Wind and Wave Plots\n",
    "Let's walk through a few different ways you can make plots comparing two variables.\n",
    "* First, we'll plot variables on the same graph\n",
    "* Second, we'll use subplots to plot the two variables separately.\n",
    "* Finally, we'll use a special function (twinx) to plot both variables on the same plot, but with different y-axes."
   ]
  },
  {
   "cell_type": "markdown",
   "id": "013d466c-1efc-4e09-bbb2-bef1b6195ae9",
   "metadata": {},
   "source": [
    "### Plot the data on the same graph \n",
    "This is not an ideal option in this case, becuase the units are different.  But if we were plotting two temperature lines, this would be a good approach."
   ]
  },
  {
   "cell_type": "code",
   "execution_count": null,
   "id": "41a89fca-f0c8-4acf-9c35-3b1b60748e73",
   "metadata": {},
   "outputs": [],
   "source": [
    "df_wind['wind_speed'].plot(label='Wind Speed')\n",
    "df_waves['sea_surface_wave_significant_height'].plot(label='Wave Height')\n",
    "\n",
    "plt.legend()\n",
    "plt.ylabel('Winds and Waves')\n",
    "plt.grid()\n",
    "plt.title('Pioneer MAB Central Surface Mooring');"
   ]
  },
  {
   "cell_type": "markdown",
   "id": "201378b5-538c-495c-8dd5-159a5f73732a",
   "metadata": {},
   "source": [
    "### Subplots"
   ]
  },
  {
   "cell_type": "code",
   "execution_count": null,
   "id": "ee84280a-8626-4bda-ab7b-267eabfe5ced",
   "metadata": {},
   "outputs": [],
   "source": [
    "# Subplots using the built-in pandas plot function\n",
    "fig,(ax1,ax2) = plt.subplots(2,1, sharex=True)\n",
    "\n",
    "df_wind['wind_speed'].plot(ax=ax1)\n",
    "ax1.set_ylabel('Wind Speed (m/s)')\n",
    "ax1.grid()\n",
    "\n",
    "df_waves['sea_surface_wave_significant_height'].plot(ax=ax2, color='green')\n",
    "ax2.set_ylabel('Sig Wave Height (m)')\n",
    "ax2.grid()\n",
    "\n",
    "fig.suptitle('Pioneer MAB Central Surface Mooring')\n",
    "fig.tight_layout()"
   ]
  },
  {
   "cell_type": "code",
   "execution_count": null,
   "id": "c0584673-ec4d-4f5c-82dc-b12f53355f08",
   "metadata": {},
   "outputs": [],
   "source": [
    "# Subplots using matplotlib plot(x,y) function\n",
    "fig,(ax1,ax2) = plt.subplots(2,1, sharex=True)\n",
    "\n",
    "ax1.plot(df_wind.index, df_wind['wind_speed'])\n",
    "ax1.set_ylabel('Wind Speed (m/s)')\n",
    "ax1.grid()\n",
    "\n",
    "ax2.plot(df_waves.index, df_waves['sea_surface_wave_significant_height'], color='green')\n",
    "ax2.set_ylabel('Sig Wave Height (m)')\n",
    "ax2.grid()\n",
    "\n",
    "# When we use matplotlib directly for plotting, we will typically need to rotate the x-tick labels\n",
    "fig.autofmt_xdate(rotation=20)\n",
    "\n",
    "fig.suptitle('Pioneer MAB Central Surface Mooring')\n",
    "fig.tight_layout()"
   ]
  },
  {
   "cell_type": "markdown",
   "id": "985ad97c-32a4-486b-a6c1-836895f79a9d",
   "metadata": {},
   "source": [
    "### TwinX Plot\n",
    "Another approach is to plot both variables in the same plot using two different y-scales.  This is not typically recommended by data visualization experts, because of the complexity of interpreting two different scales on top of each other.  But you will see this style all the time in oceanography, and it can make correlations easier to interpret."
   ]
  },
  {
   "cell_type": "code",
   "execution_count": null,
   "id": "035a758b-7f91-473d-841e-bc5ca8988f13",
   "metadata": {},
   "outputs": [],
   "source": [
    "# TwinX Plot\n",
    "fig = plt.figure(figsize=(8,4))\n",
    "\n",
    "df_wind['wind_speed'].plot()\n",
    "plt.ylabel('Wind Speed (m/s)', color='steelblue')\n",
    "\n",
    "ax2 = plt.twinx()\n",
    "df_waves['sea_surface_wave_significant_height'].plot(ax=ax2, color='green')\n",
    "ax2.set_ylabel('Sig Wave Height (m)', color='green')\n",
    "\n",
    "# We need to rotate the ticks\n",
    "fig.autofmt_xdate(rotation=20)\n",
    "\n",
    "plt.title('Pioneer MAB Central Surface Mooring');"
   ]
  },
  {
   "cell_type": "markdown",
   "id": "8c5932cd-b44b-428e-94e9-c110489a1619",
   "metadata": {},
   "source": [
    "### Zooming in on time\n",
    "Finally, let's demonstrate how to zoom in on a particular time period.  \n",
    "\n",
    "One option is to go back up to the top and select a different time range for our data request.  If we wanted to expand the time period, we would definitely have to do this.  However, if we want to zoom in, because we already have the data we want loaded, we can simply change the x-limits on the graph to the range we want."
   ]
  },
  {
   "cell_type": "code",
   "execution_count": null,
   "id": "ec3ec218-cef8-4213-b775-3ee1cf18c65f",
   "metadata": {},
   "outputs": [],
   "source": [
    "# Zoom into a specific time\n",
    "from datetime import datetime\n",
    "\n",
    "# Subplots using the built-in pandas plot function\n",
    "fig,(ax1,ax2) = plt.subplots(2,1, sharex=True)\n",
    "\n",
    "df_wind['wind_speed'].plot(ax=ax1)\n",
    "ax1.set_ylabel('Wind Speed (m/s)')\n",
    "ax1.grid()\n",
    "\n",
    "df_waves['sea_surface_wave_significant_height'].plot(ax=ax2, color='green')\n",
    "ax2.set_ylabel('Sig Wave Height (m)')\n",
    "ax2.grid()\n",
    "\n",
    "fig.suptitle('Pioneer MAB Central Surface Mooring')\n",
    "fig.tight_layout()\n",
    "\n",
    "# Because the x-axis is shared, we only have to do this once.\n",
    "ax1.set_xlim(datetime(2024,4,8),datetime(2024,4,14));\n",
    "\n",
    "# Let's also expand the y-limit so it starts at 0\n",
    "ax2.set_ylim(0,4.5);"
   ]
  },
  {
   "cell_type": "markdown",
   "id": "e688395b-3f3e-402e-970c-3fdd0a0e31d9",
   "metadata": {},
   "source": [
    "Now that we've demonstrated how to load and plot OOI data in python, let's reflect on the data we've plotted.\n",
    "\n",
    "**Questions**\n",
    "\n",
    "* What is the minimum and maximum of each dataset?\n",
    "* What patterns do you see in the data?\n",
    "  * How do the lines compare?\n",
    "  * Are there periods when they move together?  Periods when they seem to move less in sync?\n",
    "  * When are the peaks in the two datasets?  How do they compare?\n",
    "* Why do you think these datasets are or are not correlated at different times?"
   ]
  },
  {
   "cell_type": "markdown",
   "id": "2138d2e6-9dea-4637-87ea-a42012787db1",
   "metadata": {},
   "source": [
    "## Make Meaning - Adding in Turbidity \n",
    "\n",
    "We can also lood other instruments, like turbidity which is a measure of how much sediment or other particles are in the water.\n",
    "\n",
    "Let's load the [surface](https://dataexplorer.oceanobservatories.org/#metadata/110984/station/37/sensor/data?start=2024-04-01T00:00:00Z&end=2024-05-01T00:00:00Z&leg_clim_max=false&leg_clim_min=false) and [bottom](https://dataexplorer.oceanobservatories.org/#metadata/110983/station/37/sensor/data?start=2024-04-01T00:00:00Z&end=2024-05-01T00:00:00Z&leg_clim_max=false&leg_clim_min=false) turbidity instruments at the mooring and see how the storm affected them."
   ]
  },
  {
   "cell_type": "code",
   "execution_count": null,
   "id": "88424316-28f9-40b4-94c4-a189b2103bc7",
   "metadata": {},
   "outputs": [],
   "source": [
    "# Load Surface Turbidity\n",
    "url_tsurf = e.get_download_url(\n",
    "    dataset_id = \"ooi-cp10cnsm-rid26-03-turbda000\",\n",
    "    constraints = {\n",
    "      \"time>=\": \"2024-04-01\",\n",
    "      \"time<=\": \"2024-04-30\",\n",
    "    }\n",
    ")\n",
    "df_tsurf = pd.read_csv(url_tsurf, index_col='time', parse_dates=True, skiprows=[1])\n",
    "\n",
    "# Load Bottom Turbidity\n",
    "url_tbot = e.get_download_url(\n",
    "    dataset_id = \"ooi-cp10cnsm-mfd36-03-turbda000\",\n",
    "    constraints = {\n",
    "      \"time>=\": \"2024-04-01\",\n",
    "      \"time<=\": \"2024-04-30\",\n",
    "    }\n",
    ")\n",
    "df_tbot = pd.read_csv(url_tbot, index_col='time', parse_dates=True, skiprows=[1])"
   ]
  },
  {
   "cell_type": "markdown",
   "id": "5ae48a1e-840d-41a7-8941-0217ed8e9edd",
   "metadata": {},
   "source": [
    "And now let's make a plot!"
   ]
  },
  {
   "cell_type": "code",
   "execution_count": null,
   "id": "7e268abb-fbd4-4ecc-b241-fd670095a002",
   "metadata": {},
   "outputs": [],
   "source": [
    "# Subplots using the built-in pandas plot function\n",
    "fig,(ax1,ax2,ax3,ax4) = plt.subplots(4,1, sharex=True, figsize=(6,6))\n",
    "\n",
    "df_wind['wind_speed'].plot(ax=ax1)\n",
    "ax1.set_ylabel('Winds (m/s)')\n",
    "ax1.grid()\n",
    "\n",
    "df_waves['sea_surface_wave_significant_height'].plot(ax=ax2, color='green')\n",
    "ax2.set_ylabel('Waves (m)')\n",
    "ax2.grid()\n",
    "\n",
    "df_tsurf['sea_water_turbidity'].plot(ax=ax3, color='orange')\n",
    "ax3.set_ylabel('Surf Turb.')\n",
    "ax3.grid()\n",
    "\n",
    "df_tbot['sea_water_turbidity'].plot(ax=ax4, color='brown')\n",
    "ax4.set_ylabel('Bot Turb.')\n",
    "ax4.grid()\n",
    "\n",
    "fig.suptitle('Pioneer MAB Central Surface Mooring')\n",
    "fig.tight_layout()"
   ]
  },
  {
   "cell_type": "markdown",
   "id": "bf5bdac4-5700-4b8e-8ca5-7c27d0e57f83",
   "metadata": {},
   "source": [
    "**Questions**\n",
    "\n",
    "* What is the max and min values observed for the surface and bottom turbidity sensors?\n",
    "* When do the surface and bottom turbidity sensors peak?\n",
    "* How do those peaks compare with each other?  With the wind and wave peaks?\n",
    "* Why do you think the surface turbidity value is different from the bottom?\n",
    "* Why do you think the timing of the peak is different for the surface and the bottom?\n",
    "* Do you think the storm resuspended sediment from the seafloor?\n",
    "* Do you think the sediment made it to the surface? "
   ]
  },
  {
   "cell_type": "markdown",
   "id": "649d5a30-cdfe-47c2-88a3-4bc859e16bd2",
   "metadata": {},
   "source": [
    "## Going Beyond - Other Instruments\n",
    "In addition to winds and waves, we can look at how the storm impacted other measurements made by the buoy.  \n",
    "\n",
    "In fact, we already have a lot of other measurements already loaded you can look at.\n",
    "\n",
    "* df_wind includes the following variables:\n",
    "  * air_pressure\n",
    "  * relative_humidity\n",
    "  * sea_surface_salinity\n",
    "  * air_temperature\n",
    "  * sea_surface_temperature\n",
    "* df_waves also includes\n",
    "  * sea_surface_wave_significant_period\n",
    "\n",
    "In the cells below, use the code above to make some addtional plots.  You can try plotting some of the other variables, or you can change the date range of the plot.  (Note, if you want data after April, you will need to re-run the data load statements or copy and create new ones below.)"
   ]
  },
  {
   "cell_type": "code",
   "execution_count": null,
   "id": "4d2327c6-a2f8-41fb-9172-2dc02dd0a99c",
   "metadata": {},
   "outputs": [],
   "source": [
    "# Your turn - Make your own plots here\n",
    "\n",
    "\n"
   ]
  },
  {
   "cell_type": "code",
   "execution_count": null,
   "id": "05b6bebb-6748-468e-aad0-c195e44531ac",
   "metadata": {},
   "outputs": [],
   "source": [
    "# Your turn - Make your own plots here\n",
    "\n",
    "\n"
   ]
  }
 ],
 "metadata": {
  "kernelspec": {
   "display_name": "Python 3 (ipykernel)",
   "language": "python",
   "name": "python3"
  },
  "language_info": {
   "codemirror_mode": {
    "name": "ipython",
    "version": 3
   },
   "file_extension": ".py",
   "mimetype": "text/x-python",
   "name": "python",
   "nbconvert_exporter": "python",
   "pygments_lexer": "ipython3",
   "version": "3.12.3"
  }
 },
 "nbformat": 4,
 "nbformat_minor": 5
}
